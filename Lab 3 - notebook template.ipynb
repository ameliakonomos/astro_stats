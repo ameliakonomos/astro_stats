{
 "cells": [
  {
   "cell_type": "markdown",
   "metadata": {},
   "source": [
    "# Lab 3\n",
    "\n",
    "Lab 3 centers on the photometric analysis of a short-period Cepheid variable star using a sequence of exposures in different filters, as well as associated calibration data.\n",
    "\n",
    "As before, this notebook will first illustrate some Python features."
   ]
  },
  {
   "cell_type": "code",
   "execution_count": 1,
   "metadata": {},
   "outputs": [
    {
     "name": "stdout",
     "output_type": "stream",
     "text": [
      "done\n"
     ]
    }
   ],
   "source": [
    "import numpy as np\n",
    "%matplotlib inline\n",
    "import matplotlib as mpl\n",
    "import pylab\n",
    "import sys; sys.path.append('/home/a180i/lib/python/')\n",
    "import a180\n",
    "print('done')"
   ]
  },
  {
   "cell_type": "markdown",
   "metadata": {},
   "source": [
    "## Python Features"
   ]
  },
  {
   "cell_type": "markdown",
   "metadata": {},
   "source": [
    "### Tuple assignment\n",
    "\n",
    "We normally assign values to a variable one at a time, like\n",
    "~~~\n",
    "a = 10\n",
    "~~~\n",
    "However, we can do more than one assignment at a time using tuples.  We could assign a tuple to the variable `a` like this:\n",
    "~~~\n",
    "a = (5, 3)\n",
    "~~~\n",
    "The variable `a` is now a tuple.  But what if we didn't want a tuple variable, what if we wanted two variables, `c` and `d` to have these two values?  We could do\n",
    "~~~\n",
    "c = 5\n",
    "d = 3\n",
    "~~~\n",
    "to assign them.  But using tuples, we can do it faster:"
   ]
  },
  {
   "cell_type": "code",
   "execution_count": 2,
   "metadata": {},
   "outputs": [
    {
     "name": "stdout",
     "output_type": "stream",
     "text": [
      "5 3\n",
      "5 3\n"
     ]
    }
   ],
   "source": [
    "c, d = (5, 3)  # tuple-based assignment\n",
    "print(c,d)\n",
    "c, d = 5, 3  # even less typing, since the tuple is implied\n",
    "print(c,d)"
   ]
  },
  {
   "cell_type": "markdown",
   "metadata": {},
   "source": [
    "### Defining functions\n",
    "\n",
    "Sometimes we want to make our own functions.  Usually this occurs when we want to repeat a set of operations on a different set of variables.  (Note that when we want to repeat an operation on different values of variables, often we use loops.)\n",
    "\n",
    "It is straightforward to create our own functions in Python."
   ]
  },
  {
   "cell_type": "code",
   "execution_count": 3,
   "metadata": {},
   "outputs": [
    {
     "name": "stdout",
     "output_type": "stream",
     "text": [
      "4\n",
      "9538319525.3425\n",
      "5 6\n"
     ]
    }
   ],
   "source": [
    "def myfunction(input1, input2):\n",
    "    \"my own function has a string to tell us what it does.\"\n",
    "    output = input1 + input2\n",
    "    return output\n",
    "print(myfunction(2, 2))\n",
    "print(myfunction(25490.2325, 09538294035.11))\n",
    "\n",
    "def myotherfunction(input1, input2):\n",
    "    \"this one is more complicated.  we have two outputs\"\n",
    "    output1 = input1+input2\n",
    "    output2 = input1*input2\n",
    "    return output1, output2\n",
    "out1, out2 = myotherfunction(2,3)\n",
    "print(out1, out2)"
   ]
  },
  {
   "cell_type": "markdown",
   "metadata": {},
   "source": [
    "### Functions with keyword arguments\n",
    "\n",
    "Sometimes we can have optional parameters, where we can change the behavior of a function with that parameter, or have a default value for an input.  These are done with keywords arguments in Python."
   ]
  },
  {
   "cell_type": "code",
   "execution_count": 4,
   "metadata": {},
   "outputs": [
    {
     "name": "stdout",
     "output_type": "stream",
     "text": [
      "11\n",
      "3\n"
     ]
    }
   ],
   "source": [
    "def anotherfunction(input1, optional_input=10):  # notice the syntax of the keyword argument.  We use an equals sign, and give the default value for when the function is called and the keyword is not present\n",
    "    return input1+optional_input\n",
    "print(anotherfunction(1))  # this function call will assume the default value for the keyword argument\n",
    "print(anotherfunction(1, optional_input=2))  # notice how we call a function and specify the keyword"
   ]
  },
  {
   "cell_type": "markdown",
   "metadata": {},
   "source": [
    "### Overlaying a circle on an image"
   ]
  },
  {
   "cell_type": "code",
   "execution_count": 5,
   "metadata": {},
   "outputs": [
    {
     "data": {
      "image/png": "[encoded data removed]",
      "text/plain": [
       "<Figure size 432x288 with 1 Axes>"
      ]
     },
     "metadata": {
      "needs_background": "light"
     },
     "output_type": "display_data"
    }
   ],
   "source": [
    "im = np.arange(32*32).reshape(32,32)  # some sample data to display as an image\n",
    "\n",
    "# set up the figure\n",
    "fig = pylab.figure()\n",
    "ax = fig.add_subplot(111)\n",
    "\n",
    "# show the image as grayscale\n",
    "ax.imshow(im, cmap=mpl.cm.gray)\n",
    "\n",
    "# overlay a circle\n",
    "ax.add_patch(mpl.patches.Circle((16,10), # center of the circle (x,y)\n",
    "                                radius=3., # radius of the circle\n",
    "                                ec='r', # sets the circle edge color to blue\n",
    "                                fill=False, # does not fill the circle with color\n",
    "                               ))\n",
    "\n",
    "# finalize the figure\n",
    "pylab.draw()\n",
    "pylab.show()"
   ]
  },
  {
   "cell_type": "markdown",
   "metadata": {},
   "source": [
    "### Using +-, -=, *=, /= operators\n",
    "\n",
    "Sometimes we want to modify a variable in place.  We might be tempted to do something like\n",
    "~~~\n",
    "x = x + 2\n",
    "y = 3*y\n",
    "~~~\n",
    "But there are special operators which can simplify this for us, the `+=`, `-=`, `*=`, and `/=` operators do in-place addition, subtraction, multiplication, and division."
   ]
  },
  {
   "cell_type": "code",
   "execution_count": 6,
   "metadata": {},
   "outputs": [
    {
     "name": "stdout",
     "output_type": "stream",
     "text": [
      "1 2 3 4\n",
      "2 1 6 2.0\n"
     ]
    }
   ],
   "source": [
    "w, x, y, z = 1, 2, 3, 4  # multiple variable assignment\n",
    "print(w, x, y, z)\n",
    "w += 1\n",
    "x -= 1\n",
    "y *= 2\n",
    "z /= 2\n",
    "print(w, x, y, z)"
   ]
  },
  {
   "cell_type": "markdown",
   "metadata": {},
   "source": [
    "### Plots with error bars"
   ]
  },
  {
   "cell_type": "code",
   "execution_count": 7,
   "metadata": {},
   "outputs": [
    {
     "data": {
      "image/png": "[encoded data removed]",
      "text/plain": [
       "<Figure size 432x288 with 1 Axes>"
      ]
     },
     "metadata": {
      "needs_background": "light"
     },
     "output_type": "display_data"
    }
   ],
   "source": [
    "# define some data\n",
    "x = np.arange(5)\n",
    "y = [1.2, .535, -1.4, 6.6, 12.]\n",
    "y_err = [1., 2., 1., 0.5, 3.]\n",
    "\n",
    "# set up the plot\n",
    "fig = pylab.figure()\n",
    "ax = fig.add_subplot(111)\n",
    "\n",
    "# plot the data with errors\n",
    "ax.errorbar(x, y, y_err)\n",
    "\n",
    "# finalize the plot\n",
    "pylab.show()"
   ]
  },
  {
   "cell_type": "markdown",
   "metadata": {},
   "source": [
    "### Flipping the y axis of a plot\n",
    "\n",
    "Sometimes we want to flip a $y$ axis, such as when plotting magnitudes (so bright things are higher in a graph)."
   ]
  },
  {
   "cell_type": "code",
   "execution_count": 8,
   "metadata": {},
   "outputs": [
    {
     "data": {
      "image/png": "[encoded data removed]",
      "text/plain": [
       "<Figure size 432x288 with 1 Axes>"
      ]
     },
     "metadata": {
      "needs_background": "light"
     },
     "output_type": "display_data"
    }
   ],
   "source": [
    "# set up the plot\n",
    "fig = pylab.figure()\n",
    "ax = fig.add_subplot(111)\n",
    "\n",
    "# plot something\n",
    "ax.errorbar(x, y, y_err)\n",
    "\n",
    "# flip the y axes\n",
    "ax.invert_yaxis()\n",
    "\n",
    "# finalize the plot\n",
    "pylab.show()"
   ]
  },
  {
   "cell_type": "markdown",
   "metadata": {},
   "source": [
    "### Interpolation"
   ]
  },
  {
   "cell_type": "code",
   "execution_count": 9,
   "metadata": {},
   "outputs": [
    {
     "data": {
      "image/png": "[encoded data removed]",
      "text/plain": [
       "<Figure size 432x288 with 1 Axes>"
      ]
     },
     "metadata": {
      "needs_background": "light"
     },
     "output_type": "display_data"
    }
   ],
   "source": [
    "# get interpolation function\n",
    "from scipy.interpolate import interp1d\n",
    "yinterp_fn = interp1d(x, y, kind='cubic', bounds_error=False) # returns a function that, when evalued, gives interpolated values\n",
    "\n",
    "# get values at which to interpolate\n",
    "xint = np.linspace(0., 5., 100) # xmin, xmax, nx\n",
    "\n",
    "# get interpolated values\n",
    "yint = yinterp_fn(xint)\n",
    "\n",
    "# set up the figure\n",
    "fig = pylab.figure()\n",
    "ax = fig.add_subplot(111)\n",
    "\n",
    "# plot something\n",
    "ax.errorbar(x, y, y_err, fmt='o')\n",
    "\n",
    "# plot interpolated values\n",
    "ax.plot(xint, yint)\n",
    "\n",
    "# flip the y axes\n",
    "ax.invert_yaxis()\n",
    "\n",
    "# finalize the plot\n",
    "pylab.show()"
   ]
  },
  {
   "cell_type": "markdown",
   "metadata": {},
   "source": [
    "## Photometric Analysis of a Cepheid Variable Star\n",
    "\n",
    "Let's get organized first, and specify our file locations.\n",
    "\n",
    "We can't save our processed data in the raw data directory; we must specify a different location.  If it doesn't exist, we need to make it first.  You can do this from within Jupyter.  Suppose you want to make a directory called `foo`.  You would open a Terminal and type `mkdir foo`."
   ]
  },
  {
   "cell_type": "code",
   "execution_count": 10,
   "metadata": {},
   "outputs": [
    {
     "name": "stdout",
     "output_type": "stream",
     "text": [
      "done\n"
     ]
    }
   ],
   "source": [
    "raw_data_dir = '/data/home/a180f/rawlab3/' # directory where raw data are stored\n",
    "proc_data_dir = '/data/home/a180f/processedlab3/' # place to store our processed data.  Make sure this exists!\n",
    "\n",
    "# dark frames corresponding to the flats\n",
    "raw_dark_files = ['dark001.FIT',\n",
    "                  'dark002.FIT',\n",
    "                  'dark003.FIT'\n",
    "                 ]\n",
    "\n",
    "# flat fields in V and R band\n",
    "raw_flatV_files = ['domev001.FIT',\n",
    "                   'domev002.FIT',\n",
    "                   'domev003.FIT'\n",
    "                  ]\n",
    "\n",
    "raw_flatR_files = ['domer1.FIT',\n",
    "                   'domer2.FIT',\n",
    "                   'domer3.FIT'\n",
    "                  ]\n",
    "\n",
    "\n",
    "# sky images in V and R band\n",
    "raw_skyV_files = ['skyV1.FIT'\n",
    "                 ]\n",
    "\n",
    "raw_skyR_files = ['skyR1.FIT'\n",
    "                 ]\n",
    "\n",
    "# science target observations in V and R band\n",
    "raw_targV_files = ['v1.FIT',\n",
    "                   'v2.FIT',\n",
    "                   'v3.FIT',\n",
    "                   'v4.FIT',\n",
    "                   'v3.FIT',\n",
    "                   'v4.FIT',\n",
    "                   'v5.FIT',\n",
    "                   'v6.FIT',\n",
    "                   'v7.FIT',\n",
    "                   'v8.FIT',\n",
    "                   'v9.FIT',\n",
    "                   'v10.FIT',\n",
    "                   'v11.FIT',\n",
    "                   'v12.FIT',\n",
    "                   'v13.FIT',\n",
    "                   'v14.FIT',\n",
    "                   'v15.FIT',\n",
    "                   'v16.FIT',\n",
    "                   'v17.FIT',\n",
    "                   'v18.FIT',\n",
    "                   'v19.FIT',\n",
    "                   'v20.FIT',\n",
    "                   'v21.FIT',\n",
    "                   'v22.FIT',\n",
    "                   'v23.FIT',\n",
    "                   'v24.FIT',\n",
    "                   'v25.FIT',\n",
    "                   'v26.FIT',\n",
    "                   'v27.FIT'\n",
    "                  ]\n",
    "\n",
    "raw_targR_files = ['r1.FIT',\n",
    "                   'r2.FIT',\n",
    "                   'r3.FIT',\n",
    "                   'r4.FIT',\n",
    "                   'r3.FIT',\n",
    "                   'r4.FIT',\n",
    "                   'r5.FIT',\n",
    "                   'r6.FIT',\n",
    "                   'r7.FIT',\n",
    "                   'r8.FIT',\n",
    "                   'r9.FIT',\n",
    "                   'r10.FIT',\n",
    "                   'r11.FIT',\n",
    "                   'r12.FIT',\n",
    "                   'r13.FIT',\n",
    "                   'r14.FIT',\n",
    "                   'r15.FIT',\n",
    "                   'r16.FIT',\n",
    "                   'r17.FIT',\n",
    "                   'r18.FIT',\n",
    "                   'r19.FIT',\n",
    "                   'r20.FIT',\n",
    "                   'r21.FIT',\n",
    "                   'r22.FIT',\n",
    "                   'r23.FIT',\n",
    "                   'r24.FIT',\n",
    "                   'r25.FIT',\n",
    "                   'r26.FIT',\n",
    "                   'r27.FIT'\n",
    "                  ]\n",
    "\n",
    "# skies for the photometric standard stars \n",
    "raw_photskyV_files = ['skyv.FIT',\n",
    "                      'skyv2.FIT',\n",
    "                      'skyv3.FIT',\n",
    "                      'skyv4.FIT',\n",
    "                     ]\n",
    "\n",
    "raw_photskyR_files = ['skyR1.FIT',\n",
    "                      'skyr.FIT',\n",
    "                      'skyr2.FIT',\n",
    "                      'skyr3.FIT',\n",
    "                      'skyr4.FIT'\n",
    "                     ]\n",
    "\n",
    "# observations of the photometric standard star (Landolt standard)\n",
    "raw_photV_files = ['caliv001.FIT',\n",
    "                   'caliv002.FIT',\n",
    "                   'caliv003.FIT',\n",
    "                   'caliv004.FIT',\n",
    "                   'caliv005.FIT'\n",
    "                  ]\n",
    "raw_photR_files = ['cali1r.FIT',\n",
    "                   'calir001.FIT',\n",
    "                   'calir002.FIT',\n",
    "                   'calir003.FIT',\n",
    "                   'calir004.FIT'\n",
    "                  ]\n",
    "\n",
    "print('done')\n"
   ]
  },
  {
   "cell_type": "markdown",
   "metadata": {},
   "source": [
    "### Calibrating the data\n",
    "\n",
    "We'll need to calibrate our data.  For our target star images, we'll need to subtract out the background light using our sky exposures, as well as divide by the response function (the \"flat field\").\n",
    "\n",
    "#### Creating the flat fields in each band\n",
    "\n",
    "For each band ($V$ and $R$), we must first construct the flat field; this is done by removing the expected bias and dark current levels.\n",
    "\n",
    "We're going to be loading and combining files fiarly often in our calibrations, so lets define a load and combine function.  We'll use median combination rather than averaging since it is more robust to errors that come from cosmic rays.\n",
    "\n",
    "Let's first apply it to the dark exposure."
   ]
  },
  {
   "cell_type": "code",
   "execution_count": 11,
   "metadata": {},
   "outputs": [
    {
     "name": "stdout",
     "output_type": "stream",
     "text": [
      "done\n",
      "[[1058. 1085. 1043. ... 1041. 1048. 1004.]\n",
      " [1011. 1042. 1045. ... 1045. 1045. 1055.]\n",
      " [1055. 1069. 1036. ... 1036. 1037. 1041.]\n",
      " ...\n",
      " [1056. 1063. 1086. ... 1030. 1046. 1024.]\n",
      " [1023. 1077. 1077. ... 1039. 1042. 1075.]\n",
      " [1041. 1054. 1028. ... 1055. 1072. 1049.]]\n",
      "(2536, 3358)\n",
      ">f8\n"
     ]
    }
   ],
   "source": [
    "from astropy.io import fits\n",
    "import numpy as np\n",
    "\n",
    "def load_and_combine(filenames, prefix=''):\n",
    "    \"Load and use median combination on a list of exposures.  Returns a numpy array.\"\n",
    "    images = [] # define an empty list\n",
    "    for fn in filenames:\n",
    "        images.append(fits.getdata(prefix+fn)) # populate the list with image arrays from each file\n",
    "    images = np.array(images) # turn the list into a 3d numpy array\n",
    "    combined_im = np.median(images, axis=0) # use median combination along the first axis (image index)\n",
    "    return combined_im\n",
    "\n",
    "# process dark\n",
    "dark_im = load_and_combine(raw_dark_files, prefix=raw_data_dir) # load and combine dark exposures into a dark frame\n",
    "dark_fn = '/onedark.fits' # filename for our combined dark frame\n",
    "fits.writeto(proc_data_dir+dark_fn, dark_im, overwrite=True) # store the combined dark frame in a FITS file\n",
    "print('done')\n",
    "im_fn = fits.getdata(proc_data_dir+'onedark.fits')\n",
    "print(im_fn)\n",
    "print(np.shape(im_fn))\n",
    "print(im_fn.dtype)\n"
   ]
  },
  {
   "cell_type": "markdown",
   "metadata": {},
   "source": [
    "Now that we have a dark exposure, we can create the flat fields.\n",
    "\n",
    "In a given band, we will load and combine the flat field exposures.  We will subtract out the dark frame, and then normalize by the median value so that the flat field frame represents a relative response level.  We can then save it to file."
   ]
  },
  {
   "cell_type": "code",
   "execution_count": 12,
   "metadata": {},
   "outputs": [
    {
     "name": "stdout",
     "output_type": "stream",
     "text": [
      "done\n",
      ">f8\n",
      ">f8\n"
     ]
    }
   ],
   "source": [
    "#our dark exposure is onedark.fits with path proc_data_dir \n",
    "im = im_fn # this loads the image data from our FITS file into a variable\n",
    "\n",
    "# create V-band flat field\n",
    "v_flat = load_and_combine(raw_flatV_files, prefix=raw_data_dir)\n",
    "v_fflat = (v_flat - im)\n",
    "v_fflat_fn = 'vflat.fits'\n",
    "fits.writeto(proc_data_dir+v_fflat_fn, v_flat, overwrite=True)\n",
    "v_flatv= fits.getdata(proc_data_dir+'vflat.fits', overwrite=True)\n",
    "\n",
    "# create R-band flat field\n",
    "r_flat = load_and_combine(raw_flatR_files, prefix=raw_data_dir)\n",
    "r_fflat = (r_flat - im)\n",
    "r_fflat_fn = 'rflat.fits'\n",
    "r_flatr = fits.writeto(proc_data_dir+r_fflat_fn, r_flat, overwrite=True)\n",
    "r_flatr= fits.getdata(proc_data_dir+'rflat.fits', overwrite=True)\n",
    "\n",
    "print('done')\n",
    "print(v_flatv.dtype)\n",
    "print(r_flatr.dtype)"
   ]
  },
  {
   "cell_type": "markdown",
   "metadata": {},
   "source": [
    "#### Processing sky exposures\n",
    "\n",
    "We won't have to do anything fancy to the sky background exposures, just load them and combine them for each set."
   ]
  },
  {
   "cell_type": "code",
   "execution_count": 13,
   "metadata": {},
   "outputs": [
    {
     "name": "stdout",
     "output_type": "stream",
     "text": [
      "done\n",
      ">f8\n",
      ">f8\n",
      ">f8\n",
      ">f8\n"
     ]
    }
   ],
   "source": [
    "# process and store sky exposures for target, V band\n",
    "# raw_photskyV_files\n",
    "v_sky = load_and_combine(raw_photskyV_files, prefix=raw_data_dir)\n",
    "v_sky_fn = 'v_sky.fits'\n",
    "fits.writeto(proc_data_dir+v_sky_fn, v_sky, overwrite=True)\n",
    "v_skyv = fits.getdata(proc_data_dir+'v_sky.fits', overwrite=True)\n",
    "\n",
    "# process and store sky exposures for target, R band\n",
    "# raw_photskyR_files \n",
    "r_sky = load_and_combine(raw_photskyR_files, prefix=raw_data_dir)\n",
    "r_sky_fn = 'r_sky.fits'\n",
    "fits.writeto(proc_data_dir+r_sky_fn, r_sky, overwrite=True)\n",
    "r_skyr = fits.getdata(proc_data_dir+'r_sky.fits', overwrite=True)\n",
    "\n",
    "# process and store sky exposures for photometric standard, V band\n",
    "# raw_photV_files\n",
    "v_sky_std = load_and_combine(raw_photV_files, prefix=raw_data_dir)\n",
    "v_sky_stdfn = 'v_sky_std.fits'\n",
    "fits.writeto(proc_data_dir+v_sky_stdfn, v_sky_std, overwrite=True)\n",
    "v_sky_stdv = fits.getdata(proc_data_dir+'v_sky_std.fits', overwrite=True)\n",
    "                   \n",
    "# process and store sky exposures for photometric standard, R band\n",
    "# raw_photR_files\n",
    "r_sky_std = load_and_combine(raw_photR_files, prefix=raw_data_dir)\n",
    "r_sky_stdfn = 'r_sky_std.fits'\n",
    "fits.writeto(proc_data_dir+r_sky_stdfn, r_sky_std, overwrite=True)\n",
    "r_sky_stdr = fits.getdata(proc_data_dir+'r_sky_std.fits', overwrite=True)\n",
    "\n",
    "print('done')\n",
    "print(v_skyv.dtype)\n",
    "print(r_skyr.dtype)\n",
    "print(v_sky_stdv.dtype)\n",
    "print(r_sky_stdr.dtype)"
   ]
  },
  {
   "cell_type": "markdown",
   "metadata": {},
   "source": [
    "#### Calibrating photometric exposures\n",
    "\n",
    "We have several data sets we need to calibrate, namely our target and photometric standard star exposures in each filter band.\n",
    "\n",
    "To do this, we'll load each exposure, subtract the sky background, and divide by the flat field response.  We'll store the output as a file.  Let's try to simplify the process by writing a function."
   ]
  },
  {
   "cell_type": "code",
   "execution_count": 20,
   "metadata": {},
   "outputs": [
    {
     "name": "stdout",
     "output_type": "stream",
     "text": [
      "done\n",
      "proc-rr27.FIT\n"
     ]
    }
   ],
   "source": [
    "def process_photometry(raw_filename, sky_im, flat_im, raw_dir='', out_dir='', prefix='proc-'):\n",
    "    \"Calibriate a photometric exposure\"\n",
    "    out_fn = prefix + raw_filename  # output filename\n",
    "    im = fits.getdata(raw_dir+raw_filename)   # load the input data\n",
    "    proc_im = (im - sky_im) / flat_im  # calibration steps\n",
    "    fits.writeto(proc_data_dir+out_fn, proc_im, overwrite=True)  # store the output\n",
    "    return out_fn  # return the processed image filename\n",
    "\n",
    "# process photometric standard exposures, V band\n",
    "proc_targ_V = []\n",
    "for file in raw_photV_files:\n",
    "    photometric_exp_v = process_photometry(file, v_skyv, v_flatv, raw_dir='/data/home/a180f/rawlab3/', out_dir='/data/home/a180f/processedlab3/', prefix='proc-v')\n",
    "    proc_targ_V.append(photometric_exp_v)\n",
    "                   \n",
    "# process photometric standard exposures, R band\n",
    "proc_targ_R = []\n",
    "for file in raw_photR_files:\n",
    "    photometric_exp_r = process_photometry(file, r_skyr, r_flatr, raw_dir='/data/home/a180f/rawlab3/', out_dir='/data/home/a180f/processedlab3/', prefix='proc-r')\n",
    "    proc_targ_R.append(photometric_exp_r)\n",
    "\n",
    "# process target star exposures, V band\n",
    "proc_targ_Vtarg = []\n",
    "for file in raw_targV_files:\n",
    "    photometric_exp_vtarg = process_photometry(file, v_skyv, v_flatv, raw_dir='/data/home/a180f/rawlab3/', out_dir='/data/home/a180f/processedlab3/', prefix='proc-v')\n",
    "    proc_targ_Vtarg.append(photometric_exp_vtarg)\n",
    "\n",
    "# process target star exposures, R band\n",
    "proc_targ_Rtarg = []\n",
    "for file in raw_targR_files :\n",
    "    photometric_exp_rtarg = process_photometry(file, r_skyr, r_flatr, raw_dir='/data/home/a180f/rawlab3/', out_dir='/data/home/a180f/processedlab3/', prefix='proc-r')\n",
    "    proc_targ_Rtarg.append(photometric_exp_rtarg)\n",
    "\n",
    "print('done')\n",
    "print(photometric_exp_rtarg)"
   ]
  },
  {
   "cell_type": "markdown",
   "metadata": {},
   "source": [
    "Now all our data have had the first level of calibration performed, and we're ready to start making photometric measurements.\n",
    "\n",
    "### Getting uncalibrated photometry\n",
    "\n",
    "We need to add up the light from our measurements.  This will give us uncalibrated photometry, in units of DN/s.\n",
    "\n",
    "To do this we'll define an \"aperture,\" which is a virtual region in the image over which we'll add up the counts.  This will be a circular aperture centered on the star.\n",
    "\n",
    "We also expect that our sky background subtraction is not perfect, so we'll define a \"sky annulus,\" a ring-like region outside of our photometric aperture over which the residual sky level will be determiend and subtracted from our target aperture.\n",
    "\n",
    "So we'll need to find:\n",
    "* star center in pixel coordinates\n",
    "* radius of the photometric aperture\n",
    "* inner and outer radii of the sky annulus\n",
    "\n",
    "To simplify the analysis, we'll use the same aperture parameters on all exposures.  That way we only have to find the stellar centers in each exposure.\n",
    "\n",
    "Let's start with an example exposure.\n",
    "\n",
    "#### Example exposure photometry\n",
    "\n",
    "Let's load and display an example exposure.  We'll overlay the photometric and sky annulus apertures on the image to check consistency, and we'll get the photometric measurement."
   ]
  },
  {
   "cell_type": "code",
   "execution_count": 16,
   "metadata": {
    "scrolled": false
   },
   "outputs": [
    {
     "data": {
      "image/png": "[encoded data removed]",
      "text/plain": [
       "<Figure size 432x288 with 1 Axes>"
      ]
     },
     "metadata": {
      "needs_background": "light"
     },
     "output_type": "display_data"
    }
   ],
   "source": [
    "# first some definitions\n",
    "proc_targ_im_fn = 'proc-vv1.FIT'  # filename for processed example target exposure\n",
    "t_exp = 5.0  # [s] exposure time\n",
    "x, y =  1080.0, 1130.0  # [pix], [pix]  stellar x and y postiions \n",
    "phot_rad = 20.0  # [pix] photometric aperture radius\n",
    "sky_ann_inner_rad = 40.0  # [pix] sky annulus inner radius\n",
    "sky_ann_outer_rad = 50.0 # [pix] sky annulus outer radius\n",
    "\n",
    "# load the target image\n",
    "im = fits.getdata(proc_data_dir+'proc-vv1.FIT')\n",
    "\n",
    "# create a figure\n",
    "fig = pylab.figure()\n",
    "ax = fig.add_subplot(111)\n",
    "\n",
    "# display the image\n",
    "ax.imshow(im, vmax = 0.08, vmin = 0)\n",
    "pylab.xlim(1000, 1100)\n",
    "pylab.ylim(1100, 1200)\n",
    "\n",
    "# overlay a circle for the photometric aperture\n",
    "ax.add_patch(mpl.patches.Circle((x,y), # center of the circle\n",
    "                                radius=phot_rad, # radius of the circle\n",
    "                                ec='b', # sets the circle edge color to blue\n",
    "                                fill=False, # does not fill the circle with color\n",
    "                               ))\n",
    "\n",
    "# overlay a circle for the sky annulus inner radius\n",
    "ax.add_patch(mpl.patches.Circle((1080.0, 1130.0), # center of the circle (x,y)\n",
    "                                radius=sky_ann_inner_rad, # radius of the circle\n",
    "                                ec='r', # sets the circle edge color to blue\n",
    "                                fill=False, # does not fill the circle with color\n",
    "                               ))\n",
    "\n",
    "#QUESTION WHAT IS RADIUS HERE\n",
    "\n",
    "# overlay a circle for the sky annulus outer radius\n",
    "ax.add_patch(mpl.patches.Circle((1080.0, 1130.0), # center of the circle (x,y)\n",
    "                                radius=sky_ann_outer_rad, # radius of the circle\n",
    "                                ec='r', # sets the circle edge color to blue\n",
    "                                fill=False, # does not fill the circle with color\n",
    "                               ))\n",
    "\n",
    "\n",
    "# show the figure\n",
    "pylab.draw()\n",
    "#CHECK WITH LIZVETTE"
   ]
  },
  {
   "cell_type": "markdown",
   "metadata": {},
   "source": [
    "We should be sure the apertures are centered on the star.\n",
    "\n",
    "The ideal size for the photometric aperture is roughly to have it as large as possible without being so big as being dominated by sky background noise.  So we should have it sized so that it encompasses the majority of the visible starlight.\n",
    "\n",
    "Note that since we are using the same aperture sizes for all exposures, it won't be optimal in all cases.  We're aiming for \"good enough\" here.\n",
    "\n",
    "The sky annulus inner radius should be large enough so that no signal from the star is in the sky annulus.  The outer radius should be large enough so that a good number of pixels are included (ideally more area in the sky annulus than the target aperture), but not so large that systematic errors from sky nonuniformity creep in.  There is no grea recipe for the sky annulus; just get something good enough.\n",
    "\n",
    "Once we have our aperture set, let's do the photometry."
   ]
  },
  {
   "cell_type": "code",
   "execution_count": 17,
   "metadata": {},
   "outputs": [
    {
     "name": "stdout",
     "output_type": "stream",
     "text": [
      "done\n",
      "2.6389575315142717 1.224569463013555\n"
     ]
    }
   ],
   "source": [
    "import sys; sys.path.append('/home/a180i/lib/python/')\n",
    "import a180\n",
    "\n",
    "from a180 import ap_phot\n",
    "\n",
    "gain = 0.38  # [e-/DN] gain of image sensor\n",
    "print('done')\n",
    "\n",
    "phot, phot_err = ap_phot(im, x, y, \n",
    "                         phot_rad, \n",
    "                         sky_in=sky_ann_inner_rad, \n",
    "                         sky_out=sky_ann_outer_rad, \n",
    "                         gain=gain)  # get the aperture photometry\n",
    "\n",
    "phot /= t_exp  # [DN] -> [DN/s]\n",
    "phot_err /= t_exp  # [DN] -> [DN/s]\n",
    "\n",
    "print(phot, phot_err)\n",
    "#CHECK OUTPUT WITH LIZVETTE"
   ]
  },
  {
   "cell_type": "markdown",
   "metadata": {},
   "source": [
    "#### Positions for all star exposures\n",
    "\n",
    "We need to get the star position for all of our exposures.  The simplest way is through visual inspection."
   ]
  },
  {
   "cell_type": "code",
   "execution_count": 22,
   "metadata": {},
   "outputs": [
    {
     "name": "stdout",
     "output_type": "stream",
     "text": [
      "done\n"
     ]
    }
   ],
   "source": [
    "# define xy positions for target V-band exposures\n",
    "targV_xy = [(1000.0, 1335.0),\n",
    "             (1070.0, 1130.0),\n",
    "            ]\n",
    "\n",
    "# define xy positions for target R-band exposures\n",
    "targR_xy = [(1000.0, 1335.0),\n",
    "             (1070.0, 1130.0),\n",
    "            ]\n",
    "\n",
    "# define xy positions for standard V-band exposures\n",
    "targV_xys = [(1000.0, 1335.0),\n",
    "             (1070.0, 1130.0),\n",
    "            ]\n",
    "\n",
    "# define xy positions for standard R-band exposures\n",
    "targR_xys = [(1000.0, 1335.0),\n",
    "             (1070.0, 1130.0),\n",
    "            ]\n",
    "\n",
    "print('done')\n",
    "#CHECK WITH LIZVETTE"
   ]
  },
  {
   "cell_type": "markdown",
   "metadata": {},
   "source": [
    "#### Photometry for all exposures\n",
    "\n",
    "Let's loop and get photometric measurements for all exposures.  Try writing a function to loop over an exposure sequence, and return numpy arrays of the photometry and photometric error, each in DN/s."
   ]
  },
  {
   "cell_type": "code",
   "execution_count": null,
   "metadata": {},
   "outputs": [],
   "source": [
    "gain = 0.38  # [e-/DN] gain of image sensor\n",
    "print('done')\n",
    "\n",
    "\n",
    "def return_photometry(im, x, y, phot_rad, sky_in, sky_out, gain):\n",
    "    phot, phot_err = ap_phot(im, x, y, \n",
    "                         phot_rad, \n",
    "                         sky_in=sky_ann_inner_rad, \n",
    "                         sky_out=sky_ann_outer_rad, \n",
    "                         gain=gain)  # get the aperture photometry\n",
    "\n",
    "    \n",
    "    F /= t  # [DN] -> [DN/s]\n",
    "    F_err /= t  # [DN] -> [DN/s]\n",
    "\n",
    "    return F, F_err\n",
    "\n",
    "#FIX THIS FUNCTION WITH LIZVETTE\n",
    "F_V_targ, F_V_targ_err = return_photometry(im, x, y, phot_rad, sky_in, sky_out, gain)\n",
    "F_R_targ, F_R_targ_err = return_photometry(im, x, y, phot_rad, sky_in, sky_out, gain)\n",
    "F_V_std, F_V_std_err = return_photometry(im, x, y, phot_rad, sky_in, sky_out, gain)\n",
    "F_R_std, F_R_std_err = return_photometry(im, x, y, phot_rad, sky_in, sky_out, gain)"
   ]
  },
  {
   "cell_type": "markdown",
   "metadata": {},
   "source": [
    "#### Plotting the raw photometry vs. time\n",
    "\n",
    "Let's do a quick check and examine our photometry (and errors) vs. time in each band."
   ]
  },
  {
   "cell_type": "code",
   "execution_count": null,
   "metadata": {},
   "outputs": [],
   "source": [
    "# target time offsets in V band\n",
    "t_offs_V = [FIXME,\n",
    "            FIXME,\n",
    "           ]\n",
    "# target time offsets in R band\n",
    "\n",
    "\n",
    "# set up figure\n",
    "fig = pylab.Figure()\n",
    "ax1 = fig.add_subplot(121) # one row, two columns, first subplot\n",
    "ax2 = fig.add_subplot(122) # one row, two columns, second subplot\n",
    "\n",
    "# plot V band\n",
    "ax1.errorbar(t_offs_V, F_V_targ, F_V_targ_err)\n",
    "ax1.set_title('V')\n",
    "ax1.set_xlabel('time offset [s]')\n",
    "ax1.set_ylabel('photometry [DN/s]')\n",
    "\n",
    "# plot R band\n",
    "\n",
    "\n",
    "\n",
    "# finalize plot\n",
    "pylab.draw()"
   ]
  },
  {
   "cell_type": "markdown",
   "metadata": {},
   "source": [
    "#### Calibrating the photometry\n",
    "\n",
    "We'll use the standard star photometry and its known magnitudes in each filter to calibrate our starget star photometry and put it into magnitude units.\n",
    "\n",
    "Let's first get an average DN/s level for our standard star in each band, along with an uncertainty.  "
   ]
  },
  {
   "cell_type": "code",
   "execution_count": null,
   "metadata": {},
   "outputs": [],
   "source": [
    "F0_V = FIXME  # [DN/s]\n",
    "F0_V_err = FIXME  # [DN/s]\n",
    "F0_R = FIXME  # [DN/s]\n",
    "F0_R_err = FIXME  # [DN/s]"
   ]
  },
  {
   "cell_type": "markdown",
   "metadata": {},
   "source": [
    "Now we'll use this observed flux level and the known magnitude to get a zero point (and associated uncertainty)."
   ]
  },
  {
   "cell_type": "code",
   "execution_count": null,
   "metadata": {},
   "outputs": [],
   "source": [
    "m0_V = FIXME  # [mag]\n",
    "m0_V_err = FIXME  # [mag]\n",
    "m0_R = FIXME  # [mag]\n",
    "m0_R_err = FIXME  # [mag]"
   ]
  },
  {
   "cell_type": "markdown",
   "metadata": {},
   "source": [
    "Finally we can use these to calibrate our target star photometry."
   ]
  },
  {
   "cell_type": "code",
   "execution_count": null,
   "metadata": {},
   "outputs": [],
   "source": [
    "# calibrated target star V-band photometry [mag] with uncertainty\n",
    "\n",
    "\n",
    "# calibrated target star R-band photometry [mag] with uncertainty\n",
    "\n"
   ]
  },
  {
   "cell_type": "markdown",
   "metadata": {},
   "source": [
    "#### Plotting the calibrated photometry\n",
    "\n",
    "We'll want to plot our photometry (and errors) vs. time."
   ]
  },
  {
   "cell_type": "code",
   "execution_count": null,
   "metadata": {},
   "outputs": [],
   "source": []
  },
  {
   "cell_type": "markdown",
   "metadata": {},
   "source": [
    "#### Computing a color\n",
    "\n",
    "We'll want to look at $V-R$ color vs. time as well.  One complication is that we don't have the same timestamps for our $V$ and $R$ exposures, so we can't just subtract them.\n",
    "\n",
    "We can get a sense of the color change by interpolating the time sequences.\n"
   ]
  },
  {
   "cell_type": "code",
   "execution_count": null,
   "metadata": {},
   "outputs": [],
   "source": [
    "# interpolate the time series data\n",
    "from scipy.interpolate import interp1d\n",
    "interp_mR_func = FIXME\n",
    "interp_mR = interp_mR_func(t_offs_V) # interpolated magnitudes at V-band time locations\n",
    "\n",
    "# compute the V-R color (magnitudes)\n",
    "\n",
    "\n",
    "# estimate the uncertainties for the color\n",
    "\n",
    "\n"
   ]
  },
  {
   "cell_type": "markdown",
   "metadata": {},
   "source": [
    "#### Plotting the color\n",
    "Let's see the results."
   ]
  },
  {
   "cell_type": "code",
   "execution_count": null,
   "metadata": {},
   "outputs": [],
   "source": []
  }
 ],
 "metadata": {
  "kernelspec": {
   "display_name": "Python 3 (ipykernel)",
   "language": "python",
   "name": "python3"
  },
  "language_info": {
   "codemirror_mode": {
    "name": "ipython",
    "version": 3
   },
   "file_extension": ".py",
   "mimetype": "text/x-python",
   "name": "python",
   "nbconvert_exporter": "python",
   "pygments_lexer": "ipython3",
   "version": "3.8.10"
  }
 },
 "nbformat": 4,
 "nbformat_minor": 4
}
